{
 "cells": [
  {
   "cell_type": "code",
   "execution_count": 24,
   "metadata": {},
   "outputs": [],
   "source": [
    "import numpy as np # linear algebra\n",
    "import pandas as pd # data processing, CSV file I/O (e.g. pd.read_csv)\n",
    "import os\n",
    "import multiprocessing\n",
    "\n",
    "from sklearn.ensemble import RandomForestClassifier\n",
    "from sklearn.cross_validation import cross_val_score\n",
    "\n",
    "from scipy.misc import imread, imresize\n",
    "import imageio\n",
    "import skimage\n",
    "from sklearn.model_selection import cross_val_score"
   ]
  },
  {
   "cell_type": "code",
   "execution_count": 2,
   "metadata": {},
   "outputs": [
    {
     "name": "stdout",
     "output_type": "stream",
     "text": [
      "/Users/Mao/Documents/fall_mod2_18/dl/project/dl_distracted_driver\r\n"
     ]
    }
   ],
   "source": [
    "!pwd"
   ]
  },
  {
   "cell_type": "code",
   "execution_count": 3,
   "metadata": {},
   "outputs": [
    {
     "name": "stdout",
     "output_type": "stream",
     "text": [
      "\u001b[34mtest\u001b[m\u001b[m  \u001b[34mtrain\u001b[m\u001b[m\r\n"
     ]
    }
   ],
   "source": [
    "! ls /Users/Mao/Documents/fall_mod2_18/dl/project/data/imgs"
   ]
  },
  {
   "cell_type": "code",
   "execution_count": 6,
   "metadata": {},
   "outputs": [
    {
     "data": {
      "text/plain": [
       "'/Users/Mao/Documents/fall_mod2_18/dl/project/dl_distracted_driver'"
      ]
     },
     "execution_count": 6,
     "metadata": {},
     "output_type": "execute_result"
    }
   ],
   "source": [
    "os.getcwd()"
   ]
  },
  {
   "cell_type": "code",
   "execution_count": 9,
   "metadata": {},
   "outputs": [],
   "source": [
    "labels = 'c0,c1,c2,c3,c4,c5,c6,c7,c8,c9'.split(',')\n",
    "def get_train():\n",
    "    \"Get the training data into a DataFrame\"\n",
    "    path = '/Users/Mao/Documents/fall_mod2_18/dl/project/'\n",
    "    root = os.path.join(path, 'data', 'imgs')\n",
    "    labels = [i for i in os.listdir(os.path.join(root,'train')) if not i.startswith(\".\")]\n",
    "    labels.sort()\n",
    "    print('Found labels: ', *labels)\n",
    "    data = []\n",
    "    for lab in labels:\n",
    "        paths = os.listdir(os.path.join(root,'train', lab))\n",
    "        X = [(os.path.join(root, 'train', lab, i), lab) for i in paths]\n",
    "        data.extend(X)\n",
    "    import random\n",
    "    random.shuffle(data) # since labels were sorted\n",
    "    df = pd.DataFrame({'paths': [i[0] for i in data],\n",
    "                       'target': [i[1] for i in data]})\n",
    "\n",
    "    for cl in labels:\n",
    "        df[cl] = df.target == cl\n",
    "    df.drop('target', 1, inplace=True)\n",
    "    return df"
   ]
  },
  {
   "cell_type": "code",
   "execution_count": 10,
   "metadata": {},
   "outputs": [
    {
     "name": "stdout",
     "output_type": "stream",
     "text": [
      "Found labels:  c0 c1 c2 c3 c4 c5 c6 c7 c8 c9\n"
     ]
    }
   ],
   "source": [
    "train = get_train().sample(2000)"
   ]
  },
  {
   "cell_type": "code",
   "execution_count": 11,
   "metadata": {
    "collapsed": true
   },
   "outputs": [
    {
     "data": {
      "text/plain": [
       "<bound method NDFrame.head of                                                    paths     c0     c1     c2  \\\n",
       "14186  /Users/Mao/Documents/fall_mod2_18/dl/project/d...  False   True  False   \n",
       "8220   /Users/Mao/Documents/fall_mod2_18/dl/project/d...  False  False   True   \n",
       "9857   /Users/Mao/Documents/fall_mod2_18/dl/project/d...  False   True  False   \n",
       "10534  /Users/Mao/Documents/fall_mod2_18/dl/project/d...   True  False  False   \n",
       "20700  /Users/Mao/Documents/fall_mod2_18/dl/project/d...  False  False  False   \n",
       "5760   /Users/Mao/Documents/fall_mod2_18/dl/project/d...  False   True  False   \n",
       "21940  /Users/Mao/Documents/fall_mod2_18/dl/project/d...  False  False  False   \n",
       "996    /Users/Mao/Documents/fall_mod2_18/dl/project/d...  False   True  False   \n",
       "4112   /Users/Mao/Documents/fall_mod2_18/dl/project/d...  False  False  False   \n",
       "21584  /Users/Mao/Documents/fall_mod2_18/dl/project/d...  False  False  False   \n",
       "1812   /Users/Mao/Documents/fall_mod2_18/dl/project/d...   True  False  False   \n",
       "6965   /Users/Mao/Documents/fall_mod2_18/dl/project/d...  False  False  False   \n",
       "14828  /Users/Mao/Documents/fall_mod2_18/dl/project/d...  False  False  False   \n",
       "333    /Users/Mao/Documents/fall_mod2_18/dl/project/d...  False  False  False   \n",
       "15245  /Users/Mao/Documents/fall_mod2_18/dl/project/d...  False  False  False   \n",
       "12243  /Users/Mao/Documents/fall_mod2_18/dl/project/d...  False  False   True   \n",
       "1518   /Users/Mao/Documents/fall_mod2_18/dl/project/d...  False  False  False   \n",
       "2801   /Users/Mao/Documents/fall_mod2_18/dl/project/d...  False   True  False   \n",
       "11574  /Users/Mao/Documents/fall_mod2_18/dl/project/d...  False   True  False   \n",
       "14835  /Users/Mao/Documents/fall_mod2_18/dl/project/d...   True  False  False   \n",
       "2516   /Users/Mao/Documents/fall_mod2_18/dl/project/d...  False  False  False   \n",
       "14422  /Users/Mao/Documents/fall_mod2_18/dl/project/d...  False  False   True   \n",
       "19931  /Users/Mao/Documents/fall_mod2_18/dl/project/d...  False  False  False   \n",
       "9877   /Users/Mao/Documents/fall_mod2_18/dl/project/d...  False   True  False   \n",
       "5301   /Users/Mao/Documents/fall_mod2_18/dl/project/d...  False  False  False   \n",
       "14779  /Users/Mao/Documents/fall_mod2_18/dl/project/d...  False   True  False   \n",
       "15074  /Users/Mao/Documents/fall_mod2_18/dl/project/d...  False  False  False   \n",
       "15945  /Users/Mao/Documents/fall_mod2_18/dl/project/d...  False  False   True   \n",
       "17247  /Users/Mao/Documents/fall_mod2_18/dl/project/d...  False  False  False   \n",
       "434    /Users/Mao/Documents/fall_mod2_18/dl/project/d...  False  False  False   \n",
       "...                                                  ...    ...    ...    ...   \n",
       "15937  /Users/Mao/Documents/fall_mod2_18/dl/project/d...  False  False  False   \n",
       "15187  /Users/Mao/Documents/fall_mod2_18/dl/project/d...  False  False  False   \n",
       "8342   /Users/Mao/Documents/fall_mod2_18/dl/project/d...  False  False  False   \n",
       "3703   /Users/Mao/Documents/fall_mod2_18/dl/project/d...  False  False  False   \n",
       "14898  /Users/Mao/Documents/fall_mod2_18/dl/project/d...  False  False  False   \n",
       "21528  /Users/Mao/Documents/fall_mod2_18/dl/project/d...  False  False  False   \n",
       "19743  /Users/Mao/Documents/fall_mod2_18/dl/project/d...  False  False  False   \n",
       "20166  /Users/Mao/Documents/fall_mod2_18/dl/project/d...  False  False   True   \n",
       "10751  /Users/Mao/Documents/fall_mod2_18/dl/project/d...  False  False  False   \n",
       "1066   /Users/Mao/Documents/fall_mod2_18/dl/project/d...  False  False  False   \n",
       "502    /Users/Mao/Documents/fall_mod2_18/dl/project/d...  False  False  False   \n",
       "9695   /Users/Mao/Documents/fall_mod2_18/dl/project/d...  False  False  False   \n",
       "11423  /Users/Mao/Documents/fall_mod2_18/dl/project/d...  False  False  False   \n",
       "7851   /Users/Mao/Documents/fall_mod2_18/dl/project/d...  False  False  False   \n",
       "3562   /Users/Mao/Documents/fall_mod2_18/dl/project/d...  False  False  False   \n",
       "4691   /Users/Mao/Documents/fall_mod2_18/dl/project/d...  False  False  False   \n",
       "10651  /Users/Mao/Documents/fall_mod2_18/dl/project/d...  False  False  False   \n",
       "5065   /Users/Mao/Documents/fall_mod2_18/dl/project/d...  False  False  False   \n",
       "5307   /Users/Mao/Documents/fall_mod2_18/dl/project/d...   True  False  False   \n",
       "13289  /Users/Mao/Documents/fall_mod2_18/dl/project/d...  False  False  False   \n",
       "16728  /Users/Mao/Documents/fall_mod2_18/dl/project/d...  False   True  False   \n",
       "16204  /Users/Mao/Documents/fall_mod2_18/dl/project/d...  False   True  False   \n",
       "11056  /Users/Mao/Documents/fall_mod2_18/dl/project/d...  False  False  False   \n",
       "20828  /Users/Mao/Documents/fall_mod2_18/dl/project/d...  False  False  False   \n",
       "1233   /Users/Mao/Documents/fall_mod2_18/dl/project/d...  False  False  False   \n",
       "8674   /Users/Mao/Documents/fall_mod2_18/dl/project/d...  False  False  False   \n",
       "144    /Users/Mao/Documents/fall_mod2_18/dl/project/d...  False  False   True   \n",
       "8155   /Users/Mao/Documents/fall_mod2_18/dl/project/d...  False  False   True   \n",
       "11959  /Users/Mao/Documents/fall_mod2_18/dl/project/d...   True  False  False   \n",
       "2358   /Users/Mao/Documents/fall_mod2_18/dl/project/d...  False  False  False   \n",
       "\n",
       "          c3     c4     c5     c6     c7     c8     c9  \n",
       "14186  False  False  False  False  False  False  False  \n",
       "8220   False  False  False  False  False  False  False  \n",
       "9857   False  False  False  False  False  False  False  \n",
       "10534  False  False  False  False  False  False  False  \n",
       "20700  False  False  False  False  False   True  False  \n",
       "5760   False  False  False  False  False  False  False  \n",
       "21940  False   True  False  False  False  False  False  \n",
       "996    False  False  False  False  False  False  False  \n",
       "4112   False  False   True  False  False  False  False  \n",
       "21584  False  False  False  False   True  False  False  \n",
       "1812   False  False  False  False  False  False  False  \n",
       "6965   False  False  False  False  False   True  False  \n",
       "14828  False  False   True  False  False  False  False  \n",
       "333    False  False   True  False  False  False  False  \n",
       "15245   True  False  False  False  False  False  False  \n",
       "12243  False  False  False  False  False  False  False  \n",
       "1518   False  False  False  False   True  False  False  \n",
       "2801   False  False  False  False  False  False  False  \n",
       "11574  False  False  False  False  False  False  False  \n",
       "14835  False  False  False  False  False  False  False  \n",
       "2516   False  False  False   True  False  False  False  \n",
       "14422  False  False  False  False  False  False  False  \n",
       "19931  False  False  False  False  False  False   True  \n",
       "9877   False  False  False  False  False  False  False  \n",
       "5301   False  False  False   True  False  False  False  \n",
       "14779  False  False  False  False  False  False  False  \n",
       "15074  False  False  False  False   True  False  False  \n",
       "15945  False  False  False  False  False  False  False  \n",
       "17247  False   True  False  False  False  False  False  \n",
       "434    False  False  False   True  False  False  False  \n",
       "...      ...    ...    ...    ...    ...    ...    ...  \n",
       "15937   True  False  False  False  False  False  False  \n",
       "15187  False   True  False  False  False  False  False  \n",
       "8342   False   True  False  False  False  False  False  \n",
       "3703   False   True  False  False  False  False  False  \n",
       "14898  False  False  False  False  False  False   True  \n",
       "21528  False   True  False  False  False  False  False  \n",
       "19743  False   True  False  False  False  False  False  \n",
       "20166  False  False  False  False  False  False  False  \n",
       "10751  False  False  False  False  False   True  False  \n",
       "1066    True  False  False  False  False  False  False  \n",
       "502    False  False  False  False  False  False   True  \n",
       "9695   False  False  False  False  False  False   True  \n",
       "11423   True  False  False  False  False  False  False  \n",
       "7851   False   True  False  False  False  False  False  \n",
       "3562   False  False  False  False  False   True  False  \n",
       "4691   False  False  False  False  False  False   True  \n",
       "10651  False  False   True  False  False  False  False  \n",
       "5065   False  False  False   True  False  False  False  \n",
       "5307   False  False  False  False  False  False  False  \n",
       "13289  False  False  False  False  False  False   True  \n",
       "16728  False  False  False  False  False  False  False  \n",
       "16204  False  False  False  False  False  False  False  \n",
       "11056  False  False  False   True  False  False  False  \n",
       "20828  False  False  False  False  False  False   True  \n",
       "1233   False  False  False  False  False  False   True  \n",
       "8674   False  False  False  False  False   True  False  \n",
       "144    False  False  False  False  False  False  False  \n",
       "8155   False  False  False  False  False  False  False  \n",
       "11959  False  False  False  False  False  False  False  \n",
       "2358   False  False  False   True  False  False  False  \n",
       "\n",
       "[2000 rows x 11 columns]>"
      ]
     },
     "execution_count": 11,
     "metadata": {},
     "output_type": "execute_result"
    }
   ],
   "source": [
    "train.head"
   ]
  },
  {
   "cell_type": "code",
   "execution_count": 12,
   "metadata": {},
   "outputs": [],
   "source": [
    "def _apply_df(args):\n",
    "    df, func, kwargs = args\n",
    "    return df.apply(func, **kwargs)\n",
    "\n",
    "def apply_by_multiprocessing(df, func, **kwargs):\n",
    "    workers = multiprocessing.cpu_count()\n",
    "    print(\"Using\", workers, \"workers to apply function\")\n",
    "    pool = multiprocessing.Pool(processes=workers)\n",
    "    result = pool.map(_apply_df, [(d, func, kwargs)\n",
    "            for d in np.array_split(df, workers)])\n",
    "    pool.close()\n",
    "    return pd.concat(list(result))\n",
    "\n",
    "def getimage(x):\n",
    "    return imresize(imread(x, 'L'), (100, 100)).flatten()"
   ]
  },
  {
   "cell_type": "code",
   "execution_count": 13,
   "metadata": {},
   "outputs": [
    {
     "name": "stdout",
     "output_type": "stream",
     "text": [
      "Using 4 workers to apply function\n"
     ]
    },
    {
     "name": "stderr",
     "output_type": "stream",
     "text": [
      "/anaconda/envs/python3/lib/python3.6/site-packages/ipykernel_launcher.py:15: DeprecationWarning: `imread` is deprecated!\n",
      "`imread` is deprecated in SciPy 1.0.0, and will be removed in 1.2.0.\n",
      "Use ``imageio.imread`` instead.\n",
      "  from ipykernel import kernelapp as app\n",
      "/anaconda/envs/python3/lib/python3.6/site-packages/ipykernel_launcher.py:15: DeprecationWarning: `imread` is deprecated!\n",
      "`imread` is deprecated in SciPy 1.0.0, and will be removed in 1.2.0.\n",
      "Use ``imageio.imread`` instead.\n",
      "  from ipykernel import kernelapp as app\n",
      "/anaconda/envs/python3/lib/python3.6/site-packages/ipykernel_launcher.py:15: DeprecationWarning: `imread` is deprecated!\n",
      "`imread` is deprecated in SciPy 1.0.0, and will be removed in 1.2.0.\n",
      "Use ``imageio.imread`` instead.\n",
      "  from ipykernel import kernelapp as app\n",
      "/anaconda/envs/python3/lib/python3.6/site-packages/ipykernel_launcher.py:15: DeprecationWarning: `imread` is deprecated!\n",
      "`imread` is deprecated in SciPy 1.0.0, and will be removed in 1.2.0.\n",
      "Use ``imageio.imread`` instead.\n",
      "  from ipykernel import kernelapp as app\n",
      "/anaconda/envs/python3/lib/python3.6/site-packages/ipykernel_launcher.py:15: DeprecationWarning: `imresize` is deprecated!\n",
      "`imresize` is deprecated in SciPy 1.0.0, and will be removed in 1.2.0.\n",
      "Use ``skimage.transform.resize`` instead.\n",
      "  from ipykernel import kernelapp as app\n",
      "/anaconda/envs/python3/lib/python3.6/site-packages/ipykernel_launcher.py:15: DeprecationWarning: `imresize` is deprecated!\n",
      "`imresize` is deprecated in SciPy 1.0.0, and will be removed in 1.2.0.\n",
      "Use ``skimage.transform.resize`` instead.\n",
      "  from ipykernel import kernelapp as app\n",
      "/anaconda/envs/python3/lib/python3.6/site-packages/ipykernel_launcher.py:15: DeprecationWarning: `imresize` is deprecated!\n",
      "`imresize` is deprecated in SciPy 1.0.0, and will be removed in 1.2.0.\n",
      "Use ``skimage.transform.resize`` instead.\n",
      "  from ipykernel import kernelapp as app\n",
      "/anaconda/envs/python3/lib/python3.6/site-packages/ipykernel_launcher.py:15: DeprecationWarning: `imresize` is deprecated!\n",
      "`imresize` is deprecated in SciPy 1.0.0, and will be removed in 1.2.0.\n",
      "Use ``skimage.transform.resize`` instead.\n",
      "  from ipykernel import kernelapp as app\n"
     ]
    },
    {
     "name": "stdout",
     "output_type": "stream",
     "text": [
      "Loaded training data\n"
     ]
    }
   ],
   "source": [
    "train['images'] = apply_by_multiprocessing(train.paths, getimage) \n",
    "X = np.array([i for i in train.images])\n",
    "print('Loaded training data')"
   ]
  },
  {
   "cell_type": "code",
   "execution_count": 18,
   "metadata": {},
   "outputs": [
    {
     "data": {
      "text/html": [
       "<div>\n",
       "<style scoped>\n",
       "    .dataframe tbody tr th:only-of-type {\n",
       "        vertical-align: middle;\n",
       "    }\n",
       "\n",
       "    .dataframe tbody tr th {\n",
       "        vertical-align: top;\n",
       "    }\n",
       "\n",
       "    .dataframe thead th {\n",
       "        text-align: right;\n",
       "    }\n",
       "</style>\n",
       "<table border=\"1\" class=\"dataframe\">\n",
       "  <thead>\n",
       "    <tr style=\"text-align: right;\">\n",
       "      <th></th>\n",
       "      <th>paths</th>\n",
       "      <th>c0</th>\n",
       "      <th>c1</th>\n",
       "      <th>c2</th>\n",
       "      <th>c3</th>\n",
       "      <th>c4</th>\n",
       "      <th>c5</th>\n",
       "      <th>c6</th>\n",
       "      <th>c7</th>\n",
       "      <th>c8</th>\n",
       "      <th>c9</th>\n",
       "      <th>images</th>\n",
       "    </tr>\n",
       "  </thead>\n",
       "  <tbody>\n",
       "    <tr>\n",
       "      <th>14186</th>\n",
       "      <td>/Users/Mao/Documents/fall_mod2_18/dl/project/d...</td>\n",
       "      <td>False</td>\n",
       "      <td>True</td>\n",
       "      <td>False</td>\n",
       "      <td>False</td>\n",
       "      <td>False</td>\n",
       "      <td>False</td>\n",
       "      <td>False</td>\n",
       "      <td>False</td>\n",
       "      <td>False</td>\n",
       "      <td>False</td>\n",
       "      <td>[61, 62, 67, 71, 76, 87, 96, 99, 105, 105, 99,...</td>\n",
       "    </tr>\n",
       "    <tr>\n",
       "      <th>8220</th>\n",
       "      <td>/Users/Mao/Documents/fall_mod2_18/dl/project/d...</td>\n",
       "      <td>False</td>\n",
       "      <td>False</td>\n",
       "      <td>True</td>\n",
       "      <td>False</td>\n",
       "      <td>False</td>\n",
       "      <td>False</td>\n",
       "      <td>False</td>\n",
       "      <td>False</td>\n",
       "      <td>False</td>\n",
       "      <td>False</td>\n",
       "      <td>[60, 65, 75, 89, 108, 122, 118, 98, 89, 63, 53...</td>\n",
       "    </tr>\n",
       "    <tr>\n",
       "      <th>9857</th>\n",
       "      <td>/Users/Mao/Documents/fall_mod2_18/dl/project/d...</td>\n",
       "      <td>False</td>\n",
       "      <td>True</td>\n",
       "      <td>False</td>\n",
       "      <td>False</td>\n",
       "      <td>False</td>\n",
       "      <td>False</td>\n",
       "      <td>False</td>\n",
       "      <td>False</td>\n",
       "      <td>False</td>\n",
       "      <td>False</td>\n",
       "      <td>[23, 22, 22, 23, 23, 23, 24, 23, 23, 24, 24, 2...</td>\n",
       "    </tr>\n",
       "    <tr>\n",
       "      <th>10534</th>\n",
       "      <td>/Users/Mao/Documents/fall_mod2_18/dl/project/d...</td>\n",
       "      <td>True</td>\n",
       "      <td>False</td>\n",
       "      <td>False</td>\n",
       "      <td>False</td>\n",
       "      <td>False</td>\n",
       "      <td>False</td>\n",
       "      <td>False</td>\n",
       "      <td>False</td>\n",
       "      <td>False</td>\n",
       "      <td>False</td>\n",
       "      <td>[71, 77, 78, 80, 83, 88, 97, 103, 107, 111, 11...</td>\n",
       "    </tr>\n",
       "    <tr>\n",
       "      <th>20700</th>\n",
       "      <td>/Users/Mao/Documents/fall_mod2_18/dl/project/d...</td>\n",
       "      <td>False</td>\n",
       "      <td>False</td>\n",
       "      <td>False</td>\n",
       "      <td>False</td>\n",
       "      <td>False</td>\n",
       "      <td>False</td>\n",
       "      <td>False</td>\n",
       "      <td>False</td>\n",
       "      <td>True</td>\n",
       "      <td>False</td>\n",
       "      <td>[39, 37, 37, 37, 38, 39, 38, 37, 37, 37, 36, 3...</td>\n",
       "    </tr>\n",
       "  </tbody>\n",
       "</table>\n",
       "</div>"
      ],
      "text/plain": [
       "                                                   paths     c0     c1     c2  \\\n",
       "14186  /Users/Mao/Documents/fall_mod2_18/dl/project/d...  False   True  False   \n",
       "8220   /Users/Mao/Documents/fall_mod2_18/dl/project/d...  False  False   True   \n",
       "9857   /Users/Mao/Documents/fall_mod2_18/dl/project/d...  False   True  False   \n",
       "10534  /Users/Mao/Documents/fall_mod2_18/dl/project/d...   True  False  False   \n",
       "20700  /Users/Mao/Documents/fall_mod2_18/dl/project/d...  False  False  False   \n",
       "\n",
       "          c3     c4     c5     c6     c7     c8     c9  \\\n",
       "14186  False  False  False  False  False  False  False   \n",
       "8220   False  False  False  False  False  False  False   \n",
       "9857   False  False  False  False  False  False  False   \n",
       "10534  False  False  False  False  False  False  False   \n",
       "20700  False  False  False  False  False   True  False   \n",
       "\n",
       "                                                  images  \n",
       "14186  [61, 62, 67, 71, 76, 87, 96, 99, 105, 105, 99,...  \n",
       "8220   [60, 65, 75, 89, 108, 122, 118, 98, 89, 63, 53...  \n",
       "9857   [23, 22, 22, 23, 23, 23, 24, 23, 23, 24, 24, 2...  \n",
       "10534  [71, 77, 78, 80, 83, 88, 97, 103, 107, 111, 11...  \n",
       "20700  [39, 37, 37, 37, 38, 39, 38, 37, 37, 37, 36, 3...  "
      ]
     },
     "execution_count": 18,
     "metadata": {},
     "output_type": "execute_result"
    }
   ],
   "source": [
    "train.head()"
   ]
  },
  {
   "cell_type": "markdown",
   "metadata": {},
   "source": [
    "### Train Classifier"
   ]
  },
  {
   "cell_type": "code",
   "execution_count": 26,
   "metadata": {},
   "outputs": [],
   "source": [
    "classifiers = [RandomForestClassifier(n_jobs=-1,\n",
    "                                      n_estimators=100\n",
    "                                      ) for i in labels]\n",
    "targets = [train[i] for i in labels]\n"
   ]
  },
  {
   "cell_type": "code",
   "execution_count": 27,
   "metadata": {},
   "outputs": [
    {
     "name": "stderr",
     "output_type": "stream",
     "text": [
      "/anaconda/envs/python3/lib/python3.6/site-packages/sklearn/metrics/scorer.py:137: DeprecationWarning: Scoring method log_loss was renamed to neg_log_loss in version 0.18 and will be removed in 0.20.\n",
      "  sample_weight=sample_weight)\n",
      "/anaconda/envs/python3/lib/python3.6/site-packages/sklearn/metrics/scorer.py:137: DeprecationWarning: Scoring method log_loss was renamed to neg_log_loss in version 0.18 and will be removed in 0.20.\n",
      "  sample_weight=sample_weight)\n",
      "/anaconda/envs/python3/lib/python3.6/site-packages/sklearn/metrics/scorer.py:137: DeprecationWarning: Scoring method log_loss was renamed to neg_log_loss in version 0.18 and will be removed in 0.20.\n",
      "  sample_weight=sample_weight)\n"
     ]
    },
    {
     "name": "stdout",
     "output_type": "stream",
     "text": [
      "[-0.17848698 -0.16157476 -0.1541172 ]\n",
      "Trained c0\n"
     ]
    },
    {
     "name": "stderr",
     "output_type": "stream",
     "text": [
      "/anaconda/envs/python3/lib/python3.6/site-packages/sklearn/metrics/scorer.py:137: DeprecationWarning: Scoring method log_loss was renamed to neg_log_loss in version 0.18 and will be removed in 0.20.\n",
      "  sample_weight=sample_weight)\n",
      "/anaconda/envs/python3/lib/python3.6/site-packages/sklearn/metrics/scorer.py:137: DeprecationWarning: Scoring method log_loss was renamed to neg_log_loss in version 0.18 and will be removed in 0.20.\n",
      "  sample_weight=sample_weight)\n",
      "/anaconda/envs/python3/lib/python3.6/site-packages/sklearn/metrics/scorer.py:137: DeprecationWarning: Scoring method log_loss was renamed to neg_log_loss in version 0.18 and will be removed in 0.20.\n",
      "  sample_weight=sample_weight)\n"
     ]
    },
    {
     "name": "stdout",
     "output_type": "stream",
     "text": [
      "[-0.15846179 -0.13223316 -0.14525962]\n",
      "Trained c1\n"
     ]
    },
    {
     "name": "stderr",
     "output_type": "stream",
     "text": [
      "/anaconda/envs/python3/lib/python3.6/site-packages/sklearn/metrics/scorer.py:137: DeprecationWarning: Scoring method log_loss was renamed to neg_log_loss in version 0.18 and will be removed in 0.20.\n",
      "  sample_weight=sample_weight)\n",
      "/anaconda/envs/python3/lib/python3.6/site-packages/sklearn/metrics/scorer.py:137: DeprecationWarning: Scoring method log_loss was renamed to neg_log_loss in version 0.18 and will be removed in 0.20.\n",
      "  sample_weight=sample_weight)\n",
      "/anaconda/envs/python3/lib/python3.6/site-packages/sklearn/metrics/scorer.py:137: DeprecationWarning: Scoring method log_loss was renamed to neg_log_loss in version 0.18 and will be removed in 0.20.\n",
      "  sample_weight=sample_weight)\n"
     ]
    },
    {
     "name": "stdout",
     "output_type": "stream",
     "text": [
      "[-0.14994247 -0.1399364  -0.13376055]\n",
      "Trained c2\n"
     ]
    },
    {
     "name": "stderr",
     "output_type": "stream",
     "text": [
      "/anaconda/envs/python3/lib/python3.6/site-packages/sklearn/metrics/scorer.py:137: DeprecationWarning: Scoring method log_loss was renamed to neg_log_loss in version 0.18 and will be removed in 0.20.\n",
      "  sample_weight=sample_weight)\n",
      "/anaconda/envs/python3/lib/python3.6/site-packages/sklearn/metrics/scorer.py:137: DeprecationWarning: Scoring method log_loss was renamed to neg_log_loss in version 0.18 and will be removed in 0.20.\n",
      "  sample_weight=sample_weight)\n",
      "/anaconda/envs/python3/lib/python3.6/site-packages/sklearn/metrics/scorer.py:137: DeprecationWarning: Scoring method log_loss was renamed to neg_log_loss in version 0.18 and will be removed in 0.20.\n",
      "  sample_weight=sample_weight)\n"
     ]
    },
    {
     "name": "stdout",
     "output_type": "stream",
     "text": [
      "[-0.14899675 -0.15252862 -0.13321839]\n",
      "Trained c3\n"
     ]
    },
    {
     "name": "stderr",
     "output_type": "stream",
     "text": [
      "/anaconda/envs/python3/lib/python3.6/site-packages/sklearn/metrics/scorer.py:137: DeprecationWarning: Scoring method log_loss was renamed to neg_log_loss in version 0.18 and will be removed in 0.20.\n",
      "  sample_weight=sample_weight)\n",
      "/anaconda/envs/python3/lib/python3.6/site-packages/sklearn/metrics/scorer.py:137: DeprecationWarning: Scoring method log_loss was renamed to neg_log_loss in version 0.18 and will be removed in 0.20.\n",
      "  sample_weight=sample_weight)\n",
      "/anaconda/envs/python3/lib/python3.6/site-packages/sklearn/metrics/scorer.py:137: DeprecationWarning: Scoring method log_loss was renamed to neg_log_loss in version 0.18 and will be removed in 0.20.\n",
      "  sample_weight=sample_weight)\n"
     ]
    },
    {
     "name": "stdout",
     "output_type": "stream",
     "text": [
      "[-0.14816485 -0.13690465 -0.14027793]\n",
      "Trained c4\n"
     ]
    },
    {
     "name": "stderr",
     "output_type": "stream",
     "text": [
      "/anaconda/envs/python3/lib/python3.6/site-packages/sklearn/metrics/scorer.py:137: DeprecationWarning: Scoring method log_loss was renamed to neg_log_loss in version 0.18 and will be removed in 0.20.\n",
      "  sample_weight=sample_weight)\n",
      "/anaconda/envs/python3/lib/python3.6/site-packages/sklearn/metrics/scorer.py:137: DeprecationWarning: Scoring method log_loss was renamed to neg_log_loss in version 0.18 and will be removed in 0.20.\n",
      "  sample_weight=sample_weight)\n",
      "/anaconda/envs/python3/lib/python3.6/site-packages/sklearn/metrics/scorer.py:137: DeprecationWarning: Scoring method log_loss was renamed to neg_log_loss in version 0.18 and will be removed in 0.20.\n",
      "  sample_weight=sample_weight)\n"
     ]
    },
    {
     "name": "stdout",
     "output_type": "stream",
     "text": [
      "[-0.05694703 -0.05611034 -0.0540641 ]\n",
      "Trained c5\n"
     ]
    },
    {
     "name": "stderr",
     "output_type": "stream",
     "text": [
      "/anaconda/envs/python3/lib/python3.6/site-packages/sklearn/metrics/scorer.py:137: DeprecationWarning: Scoring method log_loss was renamed to neg_log_loss in version 0.18 and will be removed in 0.20.\n",
      "  sample_weight=sample_weight)\n",
      "/anaconda/envs/python3/lib/python3.6/site-packages/sklearn/metrics/scorer.py:137: DeprecationWarning: Scoring method log_loss was renamed to neg_log_loss in version 0.18 and will be removed in 0.20.\n",
      "  sample_weight=sample_weight)\n",
      "/anaconda/envs/python3/lib/python3.6/site-packages/sklearn/metrics/scorer.py:137: DeprecationWarning: Scoring method log_loss was renamed to neg_log_loss in version 0.18 and will be removed in 0.20.\n",
      "  sample_weight=sample_weight)\n"
     ]
    },
    {
     "name": "stdout",
     "output_type": "stream",
     "text": [
      "[-0.154496   -0.1489063  -0.15107085]\n",
      "Trained c6\n"
     ]
    },
    {
     "name": "stderr",
     "output_type": "stream",
     "text": [
      "/anaconda/envs/python3/lib/python3.6/site-packages/sklearn/metrics/scorer.py:137: DeprecationWarning: Scoring method log_loss was renamed to neg_log_loss in version 0.18 and will be removed in 0.20.\n",
      "  sample_weight=sample_weight)\n",
      "/anaconda/envs/python3/lib/python3.6/site-packages/sklearn/metrics/scorer.py:137: DeprecationWarning: Scoring method log_loss was renamed to neg_log_loss in version 0.18 and will be removed in 0.20.\n",
      "  sample_weight=sample_weight)\n",
      "/anaconda/envs/python3/lib/python3.6/site-packages/sklearn/metrics/scorer.py:137: DeprecationWarning: Scoring method log_loss was renamed to neg_log_loss in version 0.18 and will be removed in 0.20.\n",
      "  sample_weight=sample_weight)\n"
     ]
    },
    {
     "name": "stdout",
     "output_type": "stream",
     "text": [
      "[-0.0784613  -0.13589578 -0.08375682]\n",
      "Trained c7\n"
     ]
    },
    {
     "name": "stderr",
     "output_type": "stream",
     "text": [
      "/anaconda/envs/python3/lib/python3.6/site-packages/sklearn/metrics/scorer.py:137: DeprecationWarning: Scoring method log_loss was renamed to neg_log_loss in version 0.18 and will be removed in 0.20.\n",
      "  sample_weight=sample_weight)\n",
      "/anaconda/envs/python3/lib/python3.6/site-packages/sklearn/metrics/scorer.py:137: DeprecationWarning: Scoring method log_loss was renamed to neg_log_loss in version 0.18 and will be removed in 0.20.\n",
      "  sample_weight=sample_weight)\n",
      "/anaconda/envs/python3/lib/python3.6/site-packages/sklearn/metrics/scorer.py:137: DeprecationWarning: Scoring method log_loss was renamed to neg_log_loss in version 0.18 and will be removed in 0.20.\n",
      "  sample_weight=sample_weight)\n"
     ]
    },
    {
     "name": "stdout",
     "output_type": "stream",
     "text": [
      "[-0.13223728 -0.16220584 -0.10850109]\n",
      "Trained c8\n"
     ]
    },
    {
     "name": "stderr",
     "output_type": "stream",
     "text": [
      "/anaconda/envs/python3/lib/python3.6/site-packages/sklearn/metrics/scorer.py:137: DeprecationWarning: Scoring method log_loss was renamed to neg_log_loss in version 0.18 and will be removed in 0.20.\n",
      "  sample_weight=sample_weight)\n",
      "/anaconda/envs/python3/lib/python3.6/site-packages/sklearn/metrics/scorer.py:137: DeprecationWarning: Scoring method log_loss was renamed to neg_log_loss in version 0.18 and will be removed in 0.20.\n",
      "  sample_weight=sample_weight)\n",
      "/anaconda/envs/python3/lib/python3.6/site-packages/sklearn/metrics/scorer.py:137: DeprecationWarning: Scoring method log_loss was renamed to neg_log_loss in version 0.18 and will be removed in 0.20.\n",
      "  sample_weight=sample_weight)\n"
     ]
    },
    {
     "name": "stdout",
     "output_type": "stream",
     "text": [
      "[-0.13637749 -0.1401746  -0.14253608]\n",
      "Trained c9\n",
      "Done training\n"
     ]
    }
   ],
   "source": [
    "for i, clf, Y in zip(labels, classifiers, targets):\n",
    "    print(cross_val_score(clf, X, Y, scoring='log_loss'))\n",
    "    clf.fit(X, Y)\n",
    "    print('Trained', i)\n",
    "print('Done training')"
   ]
  },
  {
   "cell_type": "code",
   "execution_count": 19,
   "metadata": {},
   "outputs": [],
   "source": [
    "def get_test():\n",
    "    \"Get test data into a DataFrame\"\n",
    "    path = '/Users/Mao/Documents/fall_mod2_18/dl/project/'\n",
    "    root = os.path.join(path, 'data', 'imgs')\n",
    "    paths = os.listdir(os.path.join(root, 'test'))\n",
    "    x = [os.path.join(root, 'test', i) for i in paths]\n",
    "    x.sort()\n",
    "    df = pd.DataFrame({'paths': x,\n",
    "                       })\n",
    "    return df"
   ]
  },
  {
   "cell_type": "code",
   "execution_count": 20,
   "metadata": {},
   "outputs": [
    {
     "name": "stdout",
     "output_type": "stream",
     "text": [
      "loading images\n"
     ]
    }
   ],
   "source": [
    "print('loading images')\n",
    "test = get_test()"
   ]
  },
  {
   "cell_type": "code",
   "execution_count": 22,
   "metadata": {},
   "outputs": [
    {
     "data": {
      "text/plain": [
       "'/Users/Mao/Documents/fall_mod2_18/dl/project/data/imgs/test/img_1.jpg'"
      ]
     },
     "execution_count": 22,
     "metadata": {},
     "output_type": "execute_result"
    }
   ],
   "source": [
    "test['paths'][0]"
   ]
  },
  {
   "cell_type": "markdown",
   "metadata": {},
   "source": [
    "#### Prediciton"
   ]
  },
  {
   "cell_type": "code",
   "execution_count": 19,
   "metadata": {},
   "outputs": [
    {
     "name": "stdout",
     "output_type": "stream",
     "text": [
      "Using 4 workers to apply function\n"
     ]
    },
    {
     "name": "stderr",
     "output_type": "stream",
     "text": [
      "/anaconda/envs/python3/lib/python3.6/site-packages/ipykernel_launcher.py:15: DeprecationWarning: `imread` is deprecated!\n",
      "`imread` is deprecated in SciPy 1.0.0, and will be removed in 1.2.0.\n",
      "Use ``imageio.imread`` instead.\n",
      "  from ipykernel import kernelapp as app\n",
      "/anaconda/envs/python3/lib/python3.6/site-packages/ipykernel_launcher.py:15: DeprecationWarning: `imread` is deprecated!\n",
      "`imread` is deprecated in SciPy 1.0.0, and will be removed in 1.2.0.\n",
      "Use ``imageio.imread`` instead.\n",
      "  from ipykernel import kernelapp as app\n",
      "/anaconda/envs/python3/lib/python3.6/site-packages/ipykernel_launcher.py:15: DeprecationWarning: `imread` is deprecated!\n",
      "`imread` is deprecated in SciPy 1.0.0, and will be removed in 1.2.0.\n",
      "Use ``imageio.imread`` instead.\n",
      "  from ipykernel import kernelapp as app\n",
      "/anaconda/envs/python3/lib/python3.6/site-packages/ipykernel_launcher.py:15: DeprecationWarning: `imread` is deprecated!\n",
      "`imread` is deprecated in SciPy 1.0.0, and will be removed in 1.2.0.\n",
      "Use ``imageio.imread`` instead.\n",
      "  from ipykernel import kernelapp as app\n",
      "/anaconda/envs/python3/lib/python3.6/site-packages/ipykernel_launcher.py:15: DeprecationWarning: `imresize` is deprecated!\n",
      "`imresize` is deprecated in SciPy 1.0.0, and will be removed in 1.2.0.\n",
      "Use ``skimage.transform.resize`` instead.\n",
      "  from ipykernel import kernelapp as app\n",
      "/anaconda/envs/python3/lib/python3.6/site-packages/ipykernel_launcher.py:15: DeprecationWarning: `imresize` is deprecated!\n",
      "`imresize` is deprecated in SciPy 1.0.0, and will be removed in 1.2.0.\n",
      "Use ``skimage.transform.resize`` instead.\n",
      "  from ipykernel import kernelapp as app\n",
      "/anaconda/envs/python3/lib/python3.6/site-packages/ipykernel_launcher.py:15: DeprecationWarning: `imresize` is deprecated!\n",
      "`imresize` is deprecated in SciPy 1.0.0, and will be removed in 1.2.0.\n",
      "Use ``skimage.transform.resize`` instead.\n",
      "  from ipykernel import kernelapp as app\n",
      "/anaconda/envs/python3/lib/python3.6/site-packages/ipykernel_launcher.py:15: DeprecationWarning: `imresize` is deprecated!\n",
      "`imresize` is deprecated in SciPy 1.0.0, and will be removed in 1.2.0.\n",
      "Use ``skimage.transform.resize`` instead.\n",
      "  from ipykernel import kernelapp as app\n"
     ]
    },
    {
     "name": "stdout",
     "output_type": "stream",
     "text": [
      "Done loading test data.\n",
      "Running predictions\n",
      "c0 Done with prediction\n",
      "c1 Done with prediction\n",
      "c2 Done with prediction\n",
      "c3 Done with prediction\n",
      "c4 Done with prediction\n",
      "c5 Done with prediction\n",
      "c6 Done with prediction\n",
      "c7 Done with prediction\n",
      "c8 Done with prediction\n",
      "c9 Done with prediction\n",
      "Creating submission\n",
      "Done!\n"
     ]
    }
   ],
   "source": [
    "test = get_test()\n",
    "test['images'] = apply_by_multiprocessing(test.paths, getimage)\n",
    "X = np.array([i for i in test.images])\n",
    "print('Done loading test data.')\n",
    "print(\"Running predictions\")\n",
    "results = []\n",
    "for index, clf in enumerate(classifiers):\n",
    "    results.append(clf.predict_proba(X)[:,1])\n",
    "    print('c'+str(index), 'Done with prediction')\n",
    "\n",
    "print('Creating submission')\n",
    "c0, c1, c2, c3, c4, c5, c6, c7, c8, c9 = results\n",
    "sub = pd.DataFrame({'img': test.paths.apply(lambda x:x.split('/')[-1]),\n",
    "                    'c0': c0,'c1': c1,'c2': c2,\n",
    "                    'c3': c3,'c4': c4,'c5': c5,\n",
    "                    'c6': c6,'c7': c7,'c8': c8,\n",
    "                    'c9': c9,})\n",
    "sub[['img', 'c0', 'c1', 'c2', 'c3',\n",
    "     'c4', 'c5', 'c6', 'c7', 'c8', 'c9']].to_csv('submission.csv', index=False)\n",
    "print('Done!')\n"
   ]
  },
  {
   "cell_type": "code",
   "execution_count": null,
   "metadata": {},
   "outputs": [],
   "source": []
  }
 ],
 "metadata": {
  "kernelspec": {
   "display_name": "Python 3",
   "language": "python",
   "name": "python3"
  },
  "language_info": {
   "codemirror_mode": {
    "name": "ipython",
    "version": 3
   },
   "file_extension": ".py",
   "mimetype": "text/x-python",
   "name": "python",
   "nbconvert_exporter": "python",
   "pygments_lexer": "ipython3",
   "version": "3.6.1"
  }
 },
 "nbformat": 4,
 "nbformat_minor": 2
}
