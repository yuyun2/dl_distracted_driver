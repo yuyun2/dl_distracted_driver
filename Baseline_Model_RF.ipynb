{
 "cells": [
  {
   "cell_type": "code",
   "execution_count": 1,
   "metadata": {},
   "outputs": [
    {
     "name": "stderr",
     "output_type": "stream",
     "text": [
      "/anaconda/envs/python3/lib/python3.6/site-packages/sklearn/cross_validation.py:41: DeprecationWarning: This module was deprecated in version 0.18 in favor of the model_selection module into which all the refactored classes and functions are moved. Also note that the interface of the new CV iterators are different from that of this module. This module will be removed in 0.20.\n",
      "  \"This module will be removed in 0.20.\", DeprecationWarning)\n"
     ]
    }
   ],
   "source": [
    "import numpy as np # linear algebra\n",
    "import pandas as pd # data processing, CSV file I/O (e.g. pd.read_csv)\n",
    "import os\n",
    "import multiprocessing\n",
    "\n",
    "from sklearn.ensemble import RandomForestClassifier\n",
    "from sklearn.cross_validation import cross_val_score\n",
    "\n",
    "from scipy.misc import imread, imresize\n",
    "import imageio\n",
    "import skimage"
   ]
  },
  {
   "cell_type": "code",
   "execution_count": 2,
   "metadata": {},
   "outputs": [
    {
     "name": "stdout",
     "output_type": "stream",
     "text": [
      "/Users/Mao/Documents/fall_mod2_18/dl/project\r\n"
     ]
    }
   ],
   "source": [
    "!pwd"
   ]
  },
  {
   "cell_type": "code",
   "execution_count": 6,
   "metadata": {},
   "outputs": [
    {
     "name": "stdout",
     "output_type": "stream",
     "text": [
      "\u001b[34mtest\u001b[m\u001b[m  \u001b[34mtrain\u001b[m\u001b[m\r\n"
     ]
    }
   ],
   "source": [
    "! ls /Users/Mao/Documents/fall_mod2_18/dl/project/data/imgs"
   ]
  },
  {
   "cell_type": "code",
   "execution_count": 7,
   "metadata": {},
   "outputs": [],
   "source": [
    "labels = 'c0,c1,c2,c3,c4,c5,c6,c7,c8,c9'.split(',')\n",
    "def get_train():\n",
    "    \"Get the training data into a DataFrame\"\n",
    "    root = os.path.join(os.getcwd(), 'data', 'imgs')\n",
    "    labels = [i for i in os.listdir(os.path.join(root,'train')) if not i.startswith(\".\")]\n",
    "    labels.sort()\n",
    "    print('Found labels: ', *labels)\n",
    "    data = []\n",
    "    for lab in labels:\n",
    "        paths = os.listdir(os.path.join(root,'train', lab))\n",
    "        X = [(os.path.join(root, 'train', lab, i), lab) for i in paths]\n",
    "        data.extend(X)\n",
    "    import random\n",
    "    random.shuffle(data) # since labels were sorted\n",
    "    df = pd.DataFrame({'paths': [i[0] for i in data],\n",
    "                       'target': [i[1] for i in data]})\n",
    "\n",
    "    for cl in labels:\n",
    "        df[cl] = df.target == cl\n",
    "    df.drop('target', 1, inplace=True)\n",
    "    return df"
   ]
  },
  {
   "cell_type": "code",
   "execution_count": 8,
   "metadata": {},
   "outputs": [
    {
     "name": "stdout",
     "output_type": "stream",
     "text": [
      "Found labels:  c0 c1 c2 c3 c4 c5 c6 c7 c8 c9\n"
     ]
    }
   ],
   "source": [
    "train = get_train().sample(2000)"
   ]
  },
  {
   "cell_type": "code",
   "execution_count": 7,
   "metadata": {
    "collapsed": true
   },
   "outputs": [
    {
     "data": {
      "text/plain": [
       "<bound method NDFrame.head of                                                    paths     c0     c1     c2  \\\n",
       "6663   /Users/yu_yun/Desktop/MSAN/kaggle-distracted-d...  False  False  False   \n",
       "9679   /Users/yu_yun/Desktop/MSAN/kaggle-distracted-d...  False  False  False   \n",
       "19866  /Users/yu_yun/Desktop/MSAN/kaggle-distracted-d...  False  False  False   \n",
       "15573  /Users/yu_yun/Desktop/MSAN/kaggle-distracted-d...   True  False  False   \n",
       "19123  /Users/yu_yun/Desktop/MSAN/kaggle-distracted-d...  False  False  False   \n",
       "11111  /Users/yu_yun/Desktop/MSAN/kaggle-distracted-d...  False  False  False   \n",
       "12729  /Users/yu_yun/Desktop/MSAN/kaggle-distracted-d...  False   True  False   \n",
       "18821  /Users/yu_yun/Desktop/MSAN/kaggle-distracted-d...  False   True  False   \n",
       "12066  /Users/yu_yun/Desktop/MSAN/kaggle-distracted-d...  False  False  False   \n",
       "10865  /Users/yu_yun/Desktop/MSAN/kaggle-distracted-d...  False  False   True   \n",
       "2049   /Users/yu_yun/Desktop/MSAN/kaggle-distracted-d...  False  False  False   \n",
       "15555  /Users/yu_yun/Desktop/MSAN/kaggle-distracted-d...  False  False   True   \n",
       "14213  /Users/yu_yun/Desktop/MSAN/kaggle-distracted-d...  False  False   True   \n",
       "7525   /Users/yu_yun/Desktop/MSAN/kaggle-distracted-d...  False  False  False   \n",
       "7055   /Users/yu_yun/Desktop/MSAN/kaggle-distracted-d...  False   True  False   \n",
       "2291   /Users/yu_yun/Desktop/MSAN/kaggle-distracted-d...  False  False  False   \n",
       "10842  /Users/yu_yun/Desktop/MSAN/kaggle-distracted-d...  False  False  False   \n",
       "19781  /Users/yu_yun/Desktop/MSAN/kaggle-distracted-d...  False   True  False   \n",
       "15858  /Users/yu_yun/Desktop/MSAN/kaggle-distracted-d...  False  False  False   \n",
       "4960   /Users/yu_yun/Desktop/MSAN/kaggle-distracted-d...  False  False  False   \n",
       "11350  /Users/yu_yun/Desktop/MSAN/kaggle-distracted-d...  False  False  False   \n",
       "8938   /Users/yu_yun/Desktop/MSAN/kaggle-distracted-d...  False  False  False   \n",
       "15473  /Users/yu_yun/Desktop/MSAN/kaggle-distracted-d...  False   True  False   \n",
       "17552  /Users/yu_yun/Desktop/MSAN/kaggle-distracted-d...  False  False  False   \n",
       "12628  /Users/yu_yun/Desktop/MSAN/kaggle-distracted-d...  False  False  False   \n",
       "5335   /Users/yu_yun/Desktop/MSAN/kaggle-distracted-d...   True  False  False   \n",
       "14591  /Users/yu_yun/Desktop/MSAN/kaggle-distracted-d...   True  False  False   \n",
       "9211   /Users/yu_yun/Desktop/MSAN/kaggle-distracted-d...   True  False  False   \n",
       "15005  /Users/yu_yun/Desktop/MSAN/kaggle-distracted-d...  False  False  False   \n",
       "4521   /Users/yu_yun/Desktop/MSAN/kaggle-distracted-d...  False  False  False   \n",
       "...                                                  ...    ...    ...    ...   \n",
       "4953   /Users/yu_yun/Desktop/MSAN/kaggle-distracted-d...  False  False  False   \n",
       "16941  /Users/yu_yun/Desktop/MSAN/kaggle-distracted-d...  False  False  False   \n",
       "20392  /Users/yu_yun/Desktop/MSAN/kaggle-distracted-d...  False  False  False   \n",
       "3488   /Users/yu_yun/Desktop/MSAN/kaggle-distracted-d...  False  False   True   \n",
       "848    /Users/yu_yun/Desktop/MSAN/kaggle-distracted-d...   True  False  False   \n",
       "8265   /Users/yu_yun/Desktop/MSAN/kaggle-distracted-d...  False  False  False   \n",
       "19321  /Users/yu_yun/Desktop/MSAN/kaggle-distracted-d...  False  False  False   \n",
       "12526  /Users/yu_yun/Desktop/MSAN/kaggle-distracted-d...  False  False  False   \n",
       "5606   /Users/yu_yun/Desktop/MSAN/kaggle-distracted-d...  False  False  False   \n",
       "20000  /Users/yu_yun/Desktop/MSAN/kaggle-distracted-d...   True  False  False   \n",
       "15518  /Users/yu_yun/Desktop/MSAN/kaggle-distracted-d...   True  False  False   \n",
       "11143  /Users/yu_yun/Desktop/MSAN/kaggle-distracted-d...  False  False  False   \n",
       "10118  /Users/yu_yun/Desktop/MSAN/kaggle-distracted-d...   True  False  False   \n",
       "22228  /Users/yu_yun/Desktop/MSAN/kaggle-distracted-d...  False  False  False   \n",
       "1551   /Users/yu_yun/Desktop/MSAN/kaggle-distracted-d...  False  False   True   \n",
       "7721   /Users/yu_yun/Desktop/MSAN/kaggle-distracted-d...  False  False  False   \n",
       "12921  /Users/yu_yun/Desktop/MSAN/kaggle-distracted-d...  False  False  False   \n",
       "18803  /Users/yu_yun/Desktop/MSAN/kaggle-distracted-d...  False  False   True   \n",
       "19309  /Users/yu_yun/Desktop/MSAN/kaggle-distracted-d...  False  False   True   \n",
       "1683   /Users/yu_yun/Desktop/MSAN/kaggle-distracted-d...  False  False   True   \n",
       "8588   /Users/yu_yun/Desktop/MSAN/kaggle-distracted-d...  False  False  False   \n",
       "4450   /Users/yu_yun/Desktop/MSAN/kaggle-distracted-d...  False  False  False   \n",
       "2100   /Users/yu_yun/Desktop/MSAN/kaggle-distracted-d...  False  False  False   \n",
       "10131  /Users/yu_yun/Desktop/MSAN/kaggle-distracted-d...  False   True  False   \n",
       "17412  /Users/yu_yun/Desktop/MSAN/kaggle-distracted-d...  False  False  False   \n",
       "14160  /Users/yu_yun/Desktop/MSAN/kaggle-distracted-d...   True  False  False   \n",
       "15343  /Users/yu_yun/Desktop/MSAN/kaggle-distracted-d...  False  False   True   \n",
       "5055   /Users/yu_yun/Desktop/MSAN/kaggle-distracted-d...  False  False  False   \n",
       "20693  /Users/yu_yun/Desktop/MSAN/kaggle-distracted-d...  False  False  False   \n",
       "2732   /Users/yu_yun/Desktop/MSAN/kaggle-distracted-d...  False  False  False   \n",
       "\n",
       "          c3     c4     c5     c6     c7     c8     c9  \n",
       "6663   False  False  False  False   True  False  False  \n",
       "9679    True  False  False  False  False  False  False  \n",
       "19866   True  False  False  False  False  False  False  \n",
       "15573  False  False  False  False  False  False  False  \n",
       "19123  False  False  False  False   True  False  False  \n",
       "11111   True  False  False  False  False  False  False  \n",
       "12729  False  False  False  False  False  False  False  \n",
       "18821  False  False  False  False  False  False  False  \n",
       "12066  False   True  False  False  False  False  False  \n",
       "10865  False  False  False  False  False  False  False  \n",
       "2049   False  False  False  False   True  False  False  \n",
       "15555  False  False  False  False  False  False  False  \n",
       "14213  False  False  False  False  False  False  False  \n",
       "7525   False  False  False   True  False  False  False  \n",
       "7055   False  False  False  False  False  False  False  \n",
       "2291   False  False  False   True  False  False  False  \n",
       "10842  False   True  False  False  False  False  False  \n",
       "19781  False  False  False  False  False  False  False  \n",
       "15858  False   True  False  False  False  False  False  \n",
       "4960   False  False   True  False  False  False  False  \n",
       "11350  False  False  False  False  False   True  False  \n",
       "8938    True  False  False  False  False  False  False  \n",
       "15473  False  False  False  False  False  False  False  \n",
       "17552   True  False  False  False  False  False  False  \n",
       "12628  False  False  False  False  False   True  False  \n",
       "5335   False  False  False  False  False  False  False  \n",
       "14591  False  False  False  False  False  False  False  \n",
       "9211   False  False  False  False  False  False  False  \n",
       "15005  False  False  False   True  False  False  False  \n",
       "4521   False  False   True  False  False  False  False  \n",
       "...      ...    ...    ...    ...    ...    ...    ...  \n",
       "4953   False  False  False  False  False   True  False  \n",
       "16941  False   True  False  False  False  False  False  \n",
       "20392   True  False  False  False  False  False  False  \n",
       "3488   False  False  False  False  False  False  False  \n",
       "848    False  False  False  False  False  False  False  \n",
       "8265   False  False  False  False  False   True  False  \n",
       "19321   True  False  False  False  False  False  False  \n",
       "12526  False  False  False  False  False  False   True  \n",
       "5606   False  False  False  False   True  False  False  \n",
       "20000  False  False  False  False  False  False  False  \n",
       "15518  False  False  False  False  False  False  False  \n",
       "11143  False   True  False  False  False  False  False  \n",
       "10118  False  False  False  False  False  False  False  \n",
       "22228   True  False  False  False  False  False  False  \n",
       "1551   False  False  False  False  False  False  False  \n",
       "7721   False  False   True  False  False  False  False  \n",
       "12921  False  False  False   True  False  False  False  \n",
       "18803  False  False  False  False  False  False  False  \n",
       "19309  False  False  False  False  False  False  False  \n",
       "1683   False  False  False  False  False  False  False  \n",
       "8588   False  False  False   True  False  False  False  \n",
       "4450   False  False  False   True  False  False  False  \n",
       "2100   False  False  False  False  False  False   True  \n",
       "10131  False  False  False  False  False  False  False  \n",
       "17412  False   True  False  False  False  False  False  \n",
       "14160  False  False  False  False  False  False  False  \n",
       "15343  False  False  False  False  False  False  False  \n",
       "5055   False  False  False  False  False   True  False  \n",
       "20693  False   True  False  False  False  False  False  \n",
       "2732   False  False  False   True  False  False  False  \n",
       "\n",
       "[2000 rows x 11 columns]>"
      ]
     },
     "execution_count": 7,
     "metadata": {},
     "output_type": "execute_result"
    }
   ],
   "source": [
    "train.head"
   ]
  },
  {
   "cell_type": "code",
   "execution_count": 9,
   "metadata": {},
   "outputs": [],
   "source": [
    "def _apply_df(args):\n",
    "    df, func, kwargs = args\n",
    "    return df.apply(func, **kwargs)\n",
    "\n",
    "def apply_by_multiprocessing(df, func, **kwargs):\n",
    "    workers = multiprocessing.cpu_count()\n",
    "    print(\"Using\", workers, \"workers to apply function\")\n",
    "    pool = multiprocessing.Pool(processes=workers)\n",
    "    result = pool.map(_apply_df, [(d, func, kwargs)\n",
    "            for d in np.array_split(df, workers)])\n",
    "    pool.close()\n",
    "    return pd.concat(list(result))\n",
    "\n",
    "def getimage(x):\n",
    "    return imresize(imread(x, 'L'), (100, 100)).flatten()"
   ]
  },
  {
   "cell_type": "code",
   "execution_count": 10,
   "metadata": {},
   "outputs": [
    {
     "name": "stdout",
     "output_type": "stream",
     "text": [
      "Using 4 workers to apply function\n"
     ]
    },
    {
     "name": "stderr",
     "output_type": "stream",
     "text": [
      "/anaconda/envs/python3/lib/python3.6/site-packages/ipykernel_launcher.py:15: DeprecationWarning: `imread` is deprecated!\n",
      "`imread` is deprecated in SciPy 1.0.0, and will be removed in 1.2.0.\n",
      "Use ``imageio.imread`` instead.\n",
      "  from ipykernel import kernelapp as app\n",
      "/anaconda/envs/python3/lib/python3.6/site-packages/ipykernel_launcher.py:15: DeprecationWarning: `imread` is deprecated!\n",
      "`imread` is deprecated in SciPy 1.0.0, and will be removed in 1.2.0.\n",
      "Use ``imageio.imread`` instead.\n",
      "  from ipykernel import kernelapp as app\n",
      "/anaconda/envs/python3/lib/python3.6/site-packages/ipykernel_launcher.py:15: DeprecationWarning: `imread` is deprecated!\n",
      "`imread` is deprecated in SciPy 1.0.0, and will be removed in 1.2.0.\n",
      "Use ``imageio.imread`` instead.\n",
      "  from ipykernel import kernelapp as app\n",
      "/anaconda/envs/python3/lib/python3.6/site-packages/ipykernel_launcher.py:15: DeprecationWarning: `imread` is deprecated!\n",
      "`imread` is deprecated in SciPy 1.0.0, and will be removed in 1.2.0.\n",
      "Use ``imageio.imread`` instead.\n",
      "  from ipykernel import kernelapp as app\n",
      "/anaconda/envs/python3/lib/python3.6/site-packages/ipykernel_launcher.py:15: DeprecationWarning: `imresize` is deprecated!\n",
      "`imresize` is deprecated in SciPy 1.0.0, and will be removed in 1.2.0.\n",
      "Use ``skimage.transform.resize`` instead.\n",
      "  from ipykernel import kernelapp as app\n",
      "/anaconda/envs/python3/lib/python3.6/site-packages/ipykernel_launcher.py:15: DeprecationWarning: `imresize` is deprecated!\n",
      "`imresize` is deprecated in SciPy 1.0.0, and will be removed in 1.2.0.\n",
      "Use ``skimage.transform.resize`` instead.\n",
      "  from ipykernel import kernelapp as app\n",
      "/anaconda/envs/python3/lib/python3.6/site-packages/ipykernel_launcher.py:15: DeprecationWarning: `imresize` is deprecated!\n",
      "`imresize` is deprecated in SciPy 1.0.0, and will be removed in 1.2.0.\n",
      "Use ``skimage.transform.resize`` instead.\n",
      "  from ipykernel import kernelapp as app\n",
      "/anaconda/envs/python3/lib/python3.6/site-packages/ipykernel_launcher.py:15: DeprecationWarning: `imresize` is deprecated!\n",
      "`imresize` is deprecated in SciPy 1.0.0, and will be removed in 1.2.0.\n",
      "Use ``skimage.transform.resize`` instead.\n",
      "  from ipykernel import kernelapp as app\n"
     ]
    },
    {
     "name": "stdout",
     "output_type": "stream",
     "text": [
      "Loaded training data\n"
     ]
    }
   ],
   "source": [
    "train['images'] = apply_by_multiprocessing(train.paths, getimage) \n",
    "X = np.array([i for i in train.images])\n",
    "print('Loaded training data')"
   ]
  },
  {
   "cell_type": "markdown",
   "metadata": {},
   "source": [
    "### Train Classifier"
   ]
  },
  {
   "cell_type": "code",
   "execution_count": 11,
   "metadata": {},
   "outputs": [],
   "source": [
    "classifiers = [RandomForestClassifier(n_jobs=-1,\n",
    "                                      n_estimators=100\n",
    "                                      ) for i in labels]\n",
    "targets = [train[i] for i in labels]\n"
   ]
  },
  {
   "cell_type": "code",
   "execution_count": 12,
   "metadata": {},
   "outputs": [
    {
     "name": "stdout",
     "output_type": "stream",
     "text": [
      "Trained c0\n",
      "Trained c1\n",
      "Trained c2\n",
      "Trained c3\n",
      "Trained c4\n",
      "Trained c5\n",
      "Trained c6\n",
      "Trained c7\n",
      "Trained c8\n",
      "Trained c9\n",
      "Done training\n"
     ]
    }
   ],
   "source": [
    "for i, clf, Y in zip(labels, classifiers, targets):\n",
    "    #print(cross_val_score(clf, X, Y, scoring='log_loss'))\n",
    "    clf.fit(X, Y)\n",
    "    print('Trained', i)\n",
    "print('Done training')"
   ]
  },
  {
   "cell_type": "code",
   "execution_count": 16,
   "metadata": {},
   "outputs": [],
   "source": [
    "def get_test():\n",
    "    \"Get test data into a DataFrame\"\n",
    "    \n",
    "    root = os.path.join(os.getcwd(), 'data', 'imgs')\n",
    "    paths = os.listdir(os.path.join(root, 'test'))\n",
    "    x = [os.path.join(root, 'test', i) for i in paths]\n",
    "    x.sort()\n",
    "    df = pd.DataFrame({'paths': x,\n",
    "                       })\n",
    "    return df"
   ]
  },
  {
   "cell_type": "code",
   "execution_count": 17,
   "metadata": {},
   "outputs": [
    {
     "name": "stdout",
     "output_type": "stream",
     "text": [
      "loading images\n"
     ]
    }
   ],
   "source": [
    "print('loading images')\n",
    "test = get_test()"
   ]
  },
  {
   "cell_type": "markdown",
   "metadata": {},
   "source": [
    "#### Prediciton"
   ]
  },
  {
   "cell_type": "code",
   "execution_count": 19,
   "metadata": {},
   "outputs": [
    {
     "name": "stdout",
     "output_type": "stream",
     "text": [
      "Using 4 workers to apply function\n"
     ]
    },
    {
     "name": "stderr",
     "output_type": "stream",
     "text": [
      "/anaconda/envs/python3/lib/python3.6/site-packages/ipykernel_launcher.py:15: DeprecationWarning: `imread` is deprecated!\n",
      "`imread` is deprecated in SciPy 1.0.0, and will be removed in 1.2.0.\n",
      "Use ``imageio.imread`` instead.\n",
      "  from ipykernel import kernelapp as app\n",
      "/anaconda/envs/python3/lib/python3.6/site-packages/ipykernel_launcher.py:15: DeprecationWarning: `imread` is deprecated!\n",
      "`imread` is deprecated in SciPy 1.0.0, and will be removed in 1.2.0.\n",
      "Use ``imageio.imread`` instead.\n",
      "  from ipykernel import kernelapp as app\n",
      "/anaconda/envs/python3/lib/python3.6/site-packages/ipykernel_launcher.py:15: DeprecationWarning: `imread` is deprecated!\n",
      "`imread` is deprecated in SciPy 1.0.0, and will be removed in 1.2.0.\n",
      "Use ``imageio.imread`` instead.\n",
      "  from ipykernel import kernelapp as app\n",
      "/anaconda/envs/python3/lib/python3.6/site-packages/ipykernel_launcher.py:15: DeprecationWarning: `imread` is deprecated!\n",
      "`imread` is deprecated in SciPy 1.0.0, and will be removed in 1.2.0.\n",
      "Use ``imageio.imread`` instead.\n",
      "  from ipykernel import kernelapp as app\n",
      "/anaconda/envs/python3/lib/python3.6/site-packages/ipykernel_launcher.py:15: DeprecationWarning: `imresize` is deprecated!\n",
      "`imresize` is deprecated in SciPy 1.0.0, and will be removed in 1.2.0.\n",
      "Use ``skimage.transform.resize`` instead.\n",
      "  from ipykernel import kernelapp as app\n",
      "/anaconda/envs/python3/lib/python3.6/site-packages/ipykernel_launcher.py:15: DeprecationWarning: `imresize` is deprecated!\n",
      "`imresize` is deprecated in SciPy 1.0.0, and will be removed in 1.2.0.\n",
      "Use ``skimage.transform.resize`` instead.\n",
      "  from ipykernel import kernelapp as app\n",
      "/anaconda/envs/python3/lib/python3.6/site-packages/ipykernel_launcher.py:15: DeprecationWarning: `imresize` is deprecated!\n",
      "`imresize` is deprecated in SciPy 1.0.0, and will be removed in 1.2.0.\n",
      "Use ``skimage.transform.resize`` instead.\n",
      "  from ipykernel import kernelapp as app\n",
      "/anaconda/envs/python3/lib/python3.6/site-packages/ipykernel_launcher.py:15: DeprecationWarning: `imresize` is deprecated!\n",
      "`imresize` is deprecated in SciPy 1.0.0, and will be removed in 1.2.0.\n",
      "Use ``skimage.transform.resize`` instead.\n",
      "  from ipykernel import kernelapp as app\n"
     ]
    },
    {
     "name": "stdout",
     "output_type": "stream",
     "text": [
      "Done loading test data.\n",
      "Running predictions\n",
      "c0 Done with prediction\n",
      "c1 Done with prediction\n",
      "c2 Done with prediction\n",
      "c3 Done with prediction\n",
      "c4 Done with prediction\n",
      "c5 Done with prediction\n",
      "c6 Done with prediction\n",
      "c7 Done with prediction\n",
      "c8 Done with prediction\n",
      "c9 Done with prediction\n",
      "Creating submission\n",
      "Done!\n"
     ]
    }
   ],
   "source": [
    "test = get_test()\n",
    "test['images'] = apply_by_multiprocessing(test.paths, getimage)\n",
    "X = np.array([i for i in test.images])\n",
    "print('Done loading test data.')\n",
    "print(\"Running predictions\")\n",
    "results = []\n",
    "for index, clf in enumerate(classifiers):\n",
    "    results.append(clf.predict_proba(X)[:,1])\n",
    "    print('c'+str(index), 'Done with prediction')\n",
    "\n",
    "print('Creating submission')\n",
    "c0, c1, c2, c3, c4, c5, c6, c7, c8, c9 = results\n",
    "sub = pd.DataFrame({'img': test.paths.apply(lambda x:x.split('/')[-1]),\n",
    "                    'c0': c0,'c1': c1,'c2': c2,\n",
    "                    'c3': c3,'c4': c4,'c5': c5,\n",
    "                    'c6': c6,'c7': c7,'c8': c8,\n",
    "                    'c9': c9,})\n",
    "sub[['img', 'c0', 'c1', 'c2', 'c3',\n",
    "     'c4', 'c5', 'c6', 'c7', 'c8', 'c9']].to_csv('submission.csv', index=False)\n",
    "print('Done!')\n"
   ]
  },
  {
   "cell_type": "code",
   "execution_count": null,
   "metadata": {},
   "outputs": [],
   "source": []
  }
 ],
 "metadata": {
  "kernelspec": {
   "display_name": "Python 3",
   "language": "python",
   "name": "python3"
  },
  "language_info": {
   "codemirror_mode": {
    "name": "ipython",
    "version": 3
   },
   "file_extension": ".py",
   "mimetype": "text/x-python",
   "name": "python",
   "nbconvert_exporter": "python",
   "pygments_lexer": "ipython3",
   "version": "3.6.1"
  }
 },
 "nbformat": 4,
 "nbformat_minor": 2
}
